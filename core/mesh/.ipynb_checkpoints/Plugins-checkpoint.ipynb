{
 "cells": [
  {
   "cell_type": "markdown",
   "metadata": {},
   "source": [
    "# Plugins\n",
    "\n",
    "\n",
    "\n",
    "## Tools\n",
    "\n",
    "* Yapsy - Plugin Manager\n",
    "* Appdirs - Plugin Directory Management\n",
    "\n",
    "## Objective\n",
    "\n",
    "Make the **Hive** project extensible by use of plugins for Connections, Interpreters, and Tools\n",
    "\n",
    "Plugins will allow for easily interchanging\n",
    "\n",
    "* Radios\n",
    "* Command Protocols\n",
    "* Sensor and Actuators\n",
    "\n",
    "## Categories\n",
    "\n",
    "### Connections\n",
    "\n",
    "Connection plugins define serial communication for transceiver radios\n",
    "\n",
    "**Methods**\n",
    "\n",
    "* Open\n",
    "* Close\n",
    "* Write\n",
    "* Read"
   ]
  },
  {
   "cell_type": "code",
   "execution_count": null,
   "metadata": {},
   "outputs": [],
   "source": []
  }
 ],
 "metadata": {
  "kernelspec": {
   "display_name": "Python 3",
   "language": "python",
   "name": "python3"
  },
  "language_info": {
   "codemirror_mode": {
    "name": "ipython",
    "version": 3
   },
   "file_extension": ".py",
   "mimetype": "text/x-python",
   "name": "python",
   "nbconvert_exporter": "python",
   "pygments_lexer": "ipython3",
   "version": "3.6.4"
  }
 },
 "nbformat": 4,
 "nbformat_minor": 2
}
