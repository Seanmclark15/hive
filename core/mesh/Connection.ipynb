{
 "cells": [
  {
   "cell_type": "markdown",
   "metadata": {},
   "source": [
    "# Connection\n",
    "\n",
    "### Description\n",
    "Abstract interface class defining expected hardware connection interaction.\n",
    "\n",
    "### Initialization"
   ]
  },
  {
   "cell_type": "code",
   "execution_count": 2,
   "metadata": {},
   "outputs": [],
   "source": [
    "from connection import Connection\n",
    "\n",
    "# Initialize Connection with baud rate and protocol type\n",
    "connection = Connection(9600, \"UART\")"
   ]
  },
  {
   "cell_type": "markdown",
   "metadata": {},
   "source": [
    "### Methods"
   ]
  },
  {
   "cell_type": "code",
   "execution_count": 2,
   "metadata": {},
   "outputs": [
    {
     "ename": "SyntaxError",
     "evalue": "invalid syntax (<ipython-input-2-51e245740702>, line 2)",
     "output_type": "error",
     "traceback": [
      "\u001b[0;36m  File \u001b[0;32m\"<ipython-input-2-51e245740702>\"\u001b[0;36m, line \u001b[0;32m2\u001b[0m\n\u001b[0;31m    try connection.open()\u001b[0m\n\u001b[0m                 ^\u001b[0m\n\u001b[0;31mSyntaxError\u001b[0m\u001b[0;31m:\u001b[0m invalid syntax\n"
     ]
    }
   ],
   "source": [
    "# Open a connection to send information\n",
    "connection.open()\n",
    "\n",
    "# Close a connection to end stop sending information\n",
    "connection.close()\n",
    "\n",
    "# Write to a connection to send data over the network\n",
    "# * message - data to send over network\n",
    "# * address - the target destination address\n",
    "connection.write(message, address)\n",
    "\n",
    "# Read from a connection to listen for data sent over the network\n",
    "# * address - the source address to listen for data over\n",
    "connection.read(address)"
   ]
  },
  {
   "cell_type": "code",
   "execution_count": null,
   "metadata": {},
   "outputs": [],
   "source": []
  }
 ],
 "metadata": {
  "kernelspec": {
   "display_name": "Python 3",
   "language": "python",
   "name": "python3"
  },
  "language_info": {
   "codemirror_mode": {
    "name": "ipython",
    "version": 3
   },
   "file_extension": ".py",
   "mimetype": "text/x-python",
   "name": "python",
   "nbconvert_exporter": "python",
   "pygments_lexer": "ipython3",
   "version": "3.6.4"
  }
 },
 "nbformat": 4,
 "nbformat_minor": 2
}
